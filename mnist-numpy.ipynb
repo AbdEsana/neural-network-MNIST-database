{
 "cells": [
  {
   "cell_type": "code",
   "execution_count": 1,
   "id": "686bb14b",
   "metadata": {
    "_cell_guid": "b1076dfc-b9ad-4769-8c92-a6c4dae69d19",
    "_uuid": "8f2839f25d086af736a60e9eeb907d3b93b6e0e5",
    "execution": {
     "iopub.execute_input": "2023-09-09T13:47:31.533432Z",
     "iopub.status.busy": "2023-09-09T13:47:31.533057Z",
     "iopub.status.idle": "2023-09-09T13:47:31.943993Z",
     "shell.execute_reply": "2023-09-09T13:47:31.942843Z"
    },
    "papermill": {
     "duration": 0.420138,
     "end_time": "2023-09-09T13:47:31.946653",
     "exception": false,
     "start_time": "2023-09-09T13:47:31.526515",
     "status": "completed"
    },
    "tags": []
   },
   "outputs": [],
   "source": [
    "\n",
    "import numpy as np # linear algebra\n",
    "import pandas as pd # data processing, CSV file I/O (e.g. pd.read_csv)\n",
    "from matplotlib import pyplot as plt"
   ]
  },
  {
   "cell_type": "code",
   "execution_count": 2,
   "id": "084db4eb",
   "metadata": {
    "execution": {
     "iopub.execute_input": "2023-09-09T13:47:31.970596Z",
     "iopub.status.busy": "2023-09-09T13:47:31.969609Z",
     "iopub.status.idle": "2023-09-09T13:47:35.480131Z",
     "shell.execute_reply": "2023-09-09T13:47:35.478994Z"
    },
    "papermill": {
     "duration": 3.524889,
     "end_time": "2023-09-09T13:47:35.482770",
     "exception": false,
     "start_time": "2023-09-09T13:47:31.957881",
     "status": "completed"
    },
    "tags": []
   },
   "outputs": [],
   "source": [
    "data = pd.read_csv('/kaggle/input/digit-recognizer/train.csv')"
   ]
  },
  {
   "cell_type": "code",
   "execution_count": 3,
   "id": "5c6897e8",
   "metadata": {
    "execution": {
     "iopub.execute_input": "2023-09-09T13:47:35.493452Z",
     "iopub.status.busy": "2023-09-09T13:47:35.492619Z",
     "iopub.status.idle": "2023-09-09T13:47:36.242476Z",
     "shell.execute_reply": "2023-09-09T13:47:36.241494Z"
    },
    "papermill": {
     "duration": 0.757614,
     "end_time": "2023-09-09T13:47:36.244811",
     "exception": false,
     "start_time": "2023-09-09T13:47:35.487197",
     "status": "completed"
    },
    "tags": []
   },
   "outputs": [],
   "source": [
    "data = np.array(data)\n",
    "m, n = data.shape\n",
    "np.random.shuffle(data)\n",
    "\n",
    "data_dev = data[0:1000].T\n",
    "Y_dev = data_dev[0]\n",
    "X_dev = data_dev[1:n]\n",
    "X_dev = X_dev / 255.\n",
    "\n",
    "data_train = data[1000:m].T\n",
    "Y_train = data_train[0]\n",
    "X_train = data_train[1:n]\n",
    "X_train = X_train / 255.\n",
    "_,m_train = X_train.shape"
   ]
  },
  {
   "cell_type": "code",
   "execution_count": 4,
   "id": "2a2a5e84",
   "metadata": {
    "execution": {
     "iopub.execute_input": "2023-09-09T13:47:36.256057Z",
     "iopub.status.busy": "2023-09-09T13:47:36.254996Z",
     "iopub.status.idle": "2023-09-09T13:47:36.263611Z",
     "shell.execute_reply": "2023-09-09T13:47:36.262590Z"
    },
    "papermill": {
     "duration": 0.016482,
     "end_time": "2023-09-09T13:47:36.265789",
     "exception": false,
     "start_time": "2023-09-09T13:47:36.249307",
     "status": "completed"
    },
    "tags": []
   },
   "outputs": [
    {
     "data": {
      "text/plain": [
       "array([0, 2, 6, ..., 3, 6, 7])"
      ]
     },
     "execution_count": 4,
     "metadata": {},
     "output_type": "execute_result"
    }
   ],
   "source": [
    "Y_train"
   ]
  },
  {
   "cell_type": "code",
   "execution_count": 5,
   "id": "2a51bdd1",
   "metadata": {
    "execution": {
     "iopub.execute_input": "2023-09-09T13:47:36.276278Z",
     "iopub.status.busy": "2023-09-09T13:47:36.275935Z",
     "iopub.status.idle": "2023-09-09T13:47:36.287264Z",
     "shell.execute_reply": "2023-09-09T13:47:36.286124Z"
    },
    "papermill": {
     "duration": 0.019022,
     "end_time": "2023-09-09T13:47:36.289264",
     "exception": false,
     "start_time": "2023-09-09T13:47:36.270242",
     "status": "completed"
    },
    "tags": []
   },
   "outputs": [],
   "source": [
    "def init_params():\n",
    "    W1 = np.random.randn(10, 784)\n",
    "    b1 = np.random.randn(10, 1)\n",
    "    W2 = np.random.randn(10, 10)\n",
    "    b2 = np.random.randn(10, 1)\n",
    "    return W1, b1, W2, b2\n",
    "\n",
    "def ReLU(Z):\n",
    "    return np.maximum(0, Z)\n",
    "\n",
    "def softmax(Z):\n",
    "    return (np.exp(Z) / sum(np.exp(Z)))\n",
    "\n",
    "def forward_prop(W1, b1, W2, b2, X):\n",
    "    Z1 = W1.dot(X) + b1\n",
    "    A1 = ReLU(Z1)\n",
    "    Z2 = W2.dot(A1) + b2\n",
    "    A2 = softmax(A1)\n",
    "    return Z1, A1, Z2, A2\n",
    "\n",
    "def one_hot(Y):\n",
    "    one_hot_Y = np.zeros((Y.size, Y.max() + 1))\n",
    "    one_hot_Y[np.arange(Y.size), Y] = 1\n",
    "    one_hot_Y = one_hot_Y.T\n",
    "    return one_hot_Y\n",
    "\n",
    "def deriv_ReLU(Z):\n",
    "    return Z > 0\n",
    "    \n",
    "def back_prop(Z1, A1, Z2, A2, W1, W2, X, Y):\n",
    "    m = Y.size\n",
    "    one_hot_Y = one_hot(Y)\n",
    "    dZ2 = A2 - one_hot_Y\n",
    "    dW2 = 1 / m * dZ2.dot(A1.T)\n",
    "    db2 = 1 / m * np.sum(dZ2)\n",
    "    dZ1 = W2.T.dot(dZ2) * deriv_ReLU(Z1)   \n",
    "    dW1 = 1 / m * dZ1.dot(X.T)\n",
    "    db1 = 1 / m * np.sum(dZ1)\n",
    "    return dW1, db1, dW2, db2\n",
    "\n",
    "def update_params(W1, b1, W2, b2, dW1, db1, dW2, db2, alpha):\n",
    "    W1 = W1 - alpha * dW1\n",
    "    b1 = b1 - alpha * db1\n",
    "    W2 = W2 - alpha * dW2\n",
    "    b2 = b2 - alpha * db2\n",
    "    return W1, b1, W2, b2\n",
    "    "
   ]
  },
  {
   "cell_type": "code",
   "execution_count": 6,
   "id": "195b2bf3",
   "metadata": {
    "execution": {
     "iopub.execute_input": "2023-09-09T13:47:36.299787Z",
     "iopub.status.busy": "2023-09-09T13:47:36.299315Z",
     "iopub.status.idle": "2023-09-09T13:47:36.307214Z",
     "shell.execute_reply": "2023-09-09T13:47:36.306123Z"
    },
    "papermill": {
     "duration": 0.015603,
     "end_time": "2023-09-09T13:47:36.309326",
     "exception": false,
     "start_time": "2023-09-09T13:47:36.293723",
     "status": "completed"
    },
    "tags": []
   },
   "outputs": [],
   "source": [
    "def get_predictions(A2):\n",
    "    return np.argmax(A2, 0)\n",
    "\n",
    "def get_accuracy(predictions, Y):\n",
    "    print(predictions, Y)\n",
    "    return np.sum(predictions == Y) / Y.size\n",
    "\n",
    "def gradient_descent(X, Y, iterations, alpha):\n",
    "    W1, b1, W2, b2 = init_params()\n",
    "    for i in range(iterations):\n",
    "        Z1, A1, Z2, A2 = forward_prop(W1, b1, W2, b2, X)\n",
    "        dW1, db1, dW2, db2 = back_prop(Z1, A1, Z2, A2, W1, W2, X, Y)\n",
    "        W1, b1, W2, b2 = update_params(W1, b1, W2, b2, dW1, db1, dW2, db2, alpha)\n",
    "        if i % 10 == 0:\n",
    "            print(\"Iteration: \", i)\n",
    "            predictions = get_predictions(A2)\n",
    "            print(\"Accuracy: \", get_accuracy(predictions, Y))\n",
    "    return W1, b1, W2, b2"
   ]
  },
  {
   "cell_type": "code",
   "execution_count": 7,
   "id": "0da3e58f",
   "metadata": {
    "execution": {
     "iopub.execute_input": "2023-09-09T13:47:36.320312Z",
     "iopub.status.busy": "2023-09-09T13:47:36.319340Z",
     "iopub.status.idle": "2023-09-09T13:48:41.102212Z",
     "shell.execute_reply": "2023-09-09T13:48:41.101005Z"
    },
    "papermill": {
     "duration": 64.791798,
     "end_time": "2023-09-09T13:48:41.105636",
     "exception": false,
     "start_time": "2023-09-09T13:47:36.313838",
     "status": "completed"
    },
    "tags": []
   },
   "outputs": [
    {
     "name": "stdout",
     "output_type": "stream",
     "text": [
      "Iteration:  0\n",
      "[0 0 5 ... 8 6 4] [0 2 6 ... 3 6 7]\n",
      "Accuracy:  0.1424390243902439\n",
      "Iteration:  10\n",
      "[0 0 0 ... 0 0 0] [0 2 6 ... 3 6 7]\n",
      "Accuracy:  0.0985609756097561\n"
     ]
    },
    {
     "name": "stderr",
     "output_type": "stream",
     "text": [
      "/tmp/ipykernel_20/1270468341.py:12: RuntimeWarning: overflow encountered in exp\n",
      "  return (np.exp(Z) / sum(np.exp(Z)))\n",
      "/tmp/ipykernel_20/1270468341.py:12: RuntimeWarning: invalid value encountered in divide\n",
      "  return (np.exp(Z) / sum(np.exp(Z)))\n"
     ]
    },
    {
     "name": "stdout",
     "output_type": "stream",
     "text": [
      "Iteration:  20\n",
      "[0 0 0 ... 0 0 0] [0 2 6 ... 3 6 7]\n",
      "Accuracy:  0.0985609756097561\n",
      "Iteration:  30\n",
      "[0 0 0 ... 0 0 0] [0 2 6 ... 3 6 7]\n",
      "Accuracy:  0.0985609756097561\n",
      "Iteration:  40\n",
      "[0 0 0 ... 0 0 0] [0 2 6 ... 3 6 7]\n",
      "Accuracy:  0.0985609756097561\n",
      "Iteration:  50\n",
      "[0 0 0 ... 0 0 0] [0 2 6 ... 3 6 7]\n",
      "Accuracy:  0.0985609756097561\n",
      "Iteration:  60\n",
      "[0 0 0 ... 0 0 0] [0 2 6 ... 3 6 7]\n",
      "Accuracy:  0.0985609756097561\n",
      "Iteration:  70\n",
      "[0 0 0 ... 0 0 0] [0 2 6 ... 3 6 7]\n",
      "Accuracy:  0.0985609756097561\n",
      "Iteration:  80\n",
      "[0 0 0 ... 0 0 0] [0 2 6 ... 3 6 7]\n",
      "Accuracy:  0.0985609756097561\n",
      "Iteration:  90\n",
      "[0 0 0 ... 0 0 0] [0 2 6 ... 3 6 7]\n",
      "Accuracy:  0.0985609756097561\n",
      "Iteration:  100\n",
      "[0 0 0 ... 0 0 0] [0 2 6 ... 3 6 7]\n",
      "Accuracy:  0.0985609756097561\n",
      "Iteration:  110\n",
      "[0 0 0 ... 0 0 0] [0 2 6 ... 3 6 7]\n",
      "Accuracy:  0.0985609756097561\n",
      "Iteration:  120\n",
      "[0 0 0 ... 0 0 0] [0 2 6 ... 3 6 7]\n",
      "Accuracy:  0.0985609756097561\n",
      "Iteration:  130\n",
      "[0 0 0 ... 0 0 0] [0 2 6 ... 3 6 7]\n",
      "Accuracy:  0.0985609756097561\n",
      "Iteration:  140\n",
      "[0 0 0 ... 0 0 0] [0 2 6 ... 3 6 7]\n",
      "Accuracy:  0.0985609756097561\n",
      "Iteration:  150\n",
      "[0 0 0 ... 0 0 0] [0 2 6 ... 3 6 7]\n",
      "Accuracy:  0.0985609756097561\n",
      "Iteration:  160\n",
      "[0 0 0 ... 0 0 0] [0 2 6 ... 3 6 7]\n",
      "Accuracy:  0.0985609756097561\n",
      "Iteration:  170\n",
      "[0 0 0 ... 0 0 0] [0 2 6 ... 3 6 7]\n",
      "Accuracy:  0.0985609756097561\n",
      "Iteration:  180\n",
      "[0 0 0 ... 0 0 0] [0 2 6 ... 3 6 7]\n",
      "Accuracy:  0.0985609756097561\n",
      "Iteration:  190\n",
      "[0 0 0 ... 0 0 0] [0 2 6 ... 3 6 7]\n",
      "Accuracy:  0.0985609756097561\n",
      "Iteration:  200\n",
      "[0 0 0 ... 0 0 0] [0 2 6 ... 3 6 7]\n",
      "Accuracy:  0.0985609756097561\n",
      "Iteration:  210\n",
      "[0 0 0 ... 0 0 0] [0 2 6 ... 3 6 7]\n",
      "Accuracy:  0.0985609756097561\n",
      "Iteration:  220\n",
      "[0 0 0 ... 0 0 0] [0 2 6 ... 3 6 7]\n",
      "Accuracy:  0.0985609756097561\n",
      "Iteration:  230\n",
      "[0 0 0 ... 0 0 0] [0 2 6 ... 3 6 7]\n",
      "Accuracy:  0.0985609756097561\n",
      "Iteration:  240\n",
      "[0 0 0 ... 0 0 0] [0 2 6 ... 3 6 7]\n",
      "Accuracy:  0.0985609756097561\n",
      "Iteration:  250\n",
      "[0 0 0 ... 0 0 0] [0 2 6 ... 3 6 7]\n",
      "Accuracy:  0.0985609756097561\n",
      "Iteration:  260\n",
      "[0 0 0 ... 0 0 0] [0 2 6 ... 3 6 7]\n",
      "Accuracy:  0.0985609756097561\n",
      "Iteration:  270\n",
      "[0 0 0 ... 0 0 0] [0 2 6 ... 3 6 7]\n",
      "Accuracy:  0.0985609756097561\n",
      "Iteration:  280\n",
      "[0 0 0 ... 0 0 0] [0 2 6 ... 3 6 7]\n",
      "Accuracy:  0.0985609756097561\n",
      "Iteration:  290\n",
      "[0 0 0 ... 0 0 0] [0 2 6 ... 3 6 7]\n",
      "Accuracy:  0.0985609756097561\n",
      "Iteration:  300\n",
      "[0 0 0 ... 0 0 0] [0 2 6 ... 3 6 7]\n",
      "Accuracy:  0.0985609756097561\n",
      "Iteration:  310\n",
      "[0 0 0 ... 0 0 0] [0 2 6 ... 3 6 7]\n",
      "Accuracy:  0.0985609756097561\n",
      "Iteration:  320\n",
      "[0 0 0 ... 0 0 0] [0 2 6 ... 3 6 7]\n",
      "Accuracy:  0.0985609756097561\n",
      "Iteration:  330\n",
      "[0 0 0 ... 0 0 0] [0 2 6 ... 3 6 7]\n",
      "Accuracy:  0.0985609756097561\n",
      "Iteration:  340\n",
      "[0 0 0 ... 0 0 0] [0 2 6 ... 3 6 7]\n",
      "Accuracy:  0.0985609756097561\n",
      "Iteration:  350\n",
      "[0 0 0 ... 0 0 0] [0 2 6 ... 3 6 7]\n",
      "Accuracy:  0.0985609756097561\n",
      "Iteration:  360\n",
      "[0 0 0 ... 0 0 0] [0 2 6 ... 3 6 7]\n",
      "Accuracy:  0.0985609756097561\n",
      "Iteration:  370\n",
      "[0 0 0 ... 0 0 0] [0 2 6 ... 3 6 7]\n",
      "Accuracy:  0.0985609756097561\n",
      "Iteration:  380\n",
      "[0 0 0 ... 0 0 0] [0 2 6 ... 3 6 7]\n",
      "Accuracy:  0.0985609756097561\n",
      "Iteration:  390\n",
      "[0 0 0 ... 0 0 0] [0 2 6 ... 3 6 7]\n",
      "Accuracy:  0.0985609756097561\n",
      "Iteration:  400\n",
      "[0 0 0 ... 0 0 0] [0 2 6 ... 3 6 7]\n",
      "Accuracy:  0.0985609756097561\n",
      "Iteration:  410\n",
      "[0 0 0 ... 0 0 0] [0 2 6 ... 3 6 7]\n",
      "Accuracy:  0.0985609756097561\n",
      "Iteration:  420\n",
      "[0 0 0 ... 0 0 0] [0 2 6 ... 3 6 7]\n",
      "Accuracy:  0.0985609756097561\n",
      "Iteration:  430\n",
      "[0 0 0 ... 0 0 0] [0 2 6 ... 3 6 7]\n",
      "Accuracy:  0.0985609756097561\n",
      "Iteration:  440\n",
      "[0 0 0 ... 0 0 0] [0 2 6 ... 3 6 7]\n",
      "Accuracy:  0.0985609756097561\n",
      "Iteration:  450\n",
      "[0 0 0 ... 0 0 0] [0 2 6 ... 3 6 7]\n",
      "Accuracy:  0.0985609756097561\n",
      "Iteration:  460\n",
      "[0 0 0 ... 0 0 0] [0 2 6 ... 3 6 7]\n",
      "Accuracy:  0.0985609756097561\n",
      "Iteration:  470\n",
      "[0 0 0 ... 0 0 0] [0 2 6 ... 3 6 7]\n",
      "Accuracy:  0.0985609756097561\n",
      "Iteration:  480\n",
      "[0 0 0 ... 0 0 0] [0 2 6 ... 3 6 7]\n",
      "Accuracy:  0.0985609756097561\n",
      "Iteration:  490\n",
      "[0 0 0 ... 0 0 0] [0 2 6 ... 3 6 7]\n",
      "Accuracy:  0.0985609756097561\n"
     ]
    }
   ],
   "source": [
    "W1, b1, W2, b2 = gradient_descent(X_train, Y_train, 500, 0.1)"
   ]
  },
  {
   "cell_type": "code",
   "execution_count": 8,
   "id": "e3c5d516",
   "metadata": {
    "execution": {
     "iopub.execute_input": "2023-09-09T13:48:41.136209Z",
     "iopub.status.busy": "2023-09-09T13:48:41.135683Z",
     "iopub.status.idle": "2023-09-09T13:48:41.149331Z",
     "shell.execute_reply": "2023-09-09T13:48:41.147991Z"
    },
    "papermill": {
     "duration": 0.033196,
     "end_time": "2023-09-09T13:48:41.153527",
     "exception": false,
     "start_time": "2023-09-09T13:48:41.120331",
     "status": "completed"
    },
    "tags": []
   },
   "outputs": [],
   "source": [
    "def make_predictions(X, W1, b1, W2, b2):\n",
    "    _, _, _, A2 = forward_prop(W1, b1, W2, b2, X)\n",
    "    predictions = get_predictions(A2)\n",
    "    return predictions\n",
    "\n",
    "def test_prediction(index, W1, b1, W2, b2):\n",
    "    current_image = X_train[:, index, None]\n",
    "    prediction = make_predictions(X_train[:, index, None], W1, b1, W2, b2)\n",
    "    label = Y_train[index]\n",
    "    print(\"Prediction: \", prediction)\n",
    "    print(\"Label: \", label)\n",
    "    \n",
    "    current_image = current_image.reshape((28, 28)) * 255\n",
    "    plt.gray()\n",
    "    plt.imshow(current_image, interpolation='nearest')\n",
    "    plt.show()"
   ]
  },
  {
   "cell_type": "code",
   "execution_count": 9,
   "id": "43b9c4a2",
   "metadata": {
    "execution": {
     "iopub.execute_input": "2023-09-09T13:48:41.182491Z",
     "iopub.status.busy": "2023-09-09T13:48:41.181967Z",
     "iopub.status.idle": "2023-09-09T13:48:42.082498Z",
     "shell.execute_reply": "2023-09-09T13:48:42.081330Z"
    },
    "papermill": {
     "duration": 0.917609,
     "end_time": "2023-09-09T13:48:42.085060",
     "exception": false,
     "start_time": "2023-09-09T13:48:41.167451",
     "status": "completed"
    },
    "tags": []
   },
   "outputs": [
    {
     "name": "stdout",
     "output_type": "stream",
     "text": [
      "Prediction:  [0]\n",
      "Label:  0\n"
     ]
    },
    {
     "data": {
      "image/png": "[encoded data removed]",
      "text/plain": [
       "<Figure size 640x480 with 1 Axes>"
      ]
     },
     "metadata": {},
     "output_type": "display_data"
    },
    {
     "name": "stdout",
     "output_type": "stream",
     "text": [
      "Prediction:  [0]\n",
      "Label:  2\n"
     ]
    },
    {
     "data": {
      "image/png": "[encoded data removed]",
      "text/plain": [
       "<Figure size 640x480 with 1 Axes>"
      ]
     },
     "metadata": {},
     "output_type": "display_data"
    },
    {
     "name": "stdout",
     "output_type": "stream",
     "text": [
      "Prediction:  [0]\n",
      "Label:  8\n"
     ]
    },
    {
     "data": {
      "image/png": "[encoded data removed]",
      "text/plain": [
       "<Figure size 640x480 with 1 Axes>"
      ]
     },
     "metadata": {},
     "output_type": "display_data"
    },
    {
     "name": "stdout",
     "output_type": "stream",
     "text": [
      "Prediction:  [0]\n",
      "Label:  1\n"
     ]
    },
    {
     "data": {
      "image/png": "[encoded data removed]",
      "text/plain": [
       "<Figure size 640x480 with 1 Axes>"
      ]
     },
     "metadata": {},
     "output_type": "display_data"
    }
   ],
   "source": [
    "test_prediction(0, W1, b1, W2, b2)\n",
    "test_prediction(1, W1, b1, W2, b2)\n",
    "test_prediction(20, W1, b1, W2, b2)\n",
    "test_prediction(8, W1, b1, W2, b2)"
   ]
  }
 ],
 "kernelspec": {
  "display_name": "Python 3",
  "language": "python",
  "name": "python3"
 },
 "language_info": {
  "codemirror_mode": {
   "name": "ipython",
   "version": 3
  },
  "file_extension": ".py",
  "mimetype": "text/x-python",
  "name": "python",
  "nbconvert_exporter": "python",
  "pygments_lexer": "ipython3",
  "version": "3.6.4"
 },
 "metadata": {
  "kernelspec": {
   "display_name": "Python 3",
   "language": "python",
   "name": "python3"
  },
  "language_info": {
   "codemirror_mode": {
    "name": "ipython",
    "version": 3
   },
   "file_extension": ".py",
   "mimetype": "text/x-python",
   "name": "python",
   "nbconvert_exporter": "python",
   "pygments_lexer": "ipython3",
   "version": "3.10.12"
  },
  "papermill": {
   "default_parameters": {},
   "duration": 74.374026,
   "end_time": "2023-09-09T13:48:42.615027",
   "environment_variables": {},
   "exception": null,
   "input_path": "__notebook__.ipynb",
   "output_path": "__notebook__.ipynb",
   "parameters": {},
   "start_time": "2023-09-09T13:47:28.241001",
   "version": "2.4.0"
  }
 },
 "nbformat": 4,
 "nbformat_minor": 5
}
